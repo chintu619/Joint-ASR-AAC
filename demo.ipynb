{
 "cells": [
  {
   "cell_type": "markdown",
   "id": "d3cbf2eb",
   "metadata": {},
   "source": [
    "### TODO\n",
    "  * Embed example YouTube clips into webpage\n",
    "  * Provide joint modeling outputs of some samples to webpage\n"
   ]
  },
  {
   "cell_type": "markdown",
   "id": "489b8c1c",
   "metadata": {},
   "source": [
    "## Downloading the first 3 audio files in AudioCaps dataset"
   ]
  },
  {
   "cell_type": "code",
   "execution_count": 2,
   "id": "5ec3798a",
   "metadata": {},
   "outputs": [
    {
     "name": "stdout",
     "output_type": "stream",
     "text": [
      "corpora  demo.ipynb\t\tffmpeg\t      README.md\r\n",
      "data\t download_audiocaps.sh\tmix_audio.py  requirements.txt\r\n"
     ]
    }
   ],
   "source": [
    "! ls"
   ]
  },
  {
   "cell_type": "code",
   "execution_count": 15,
   "id": "47e474b1",
   "metadata": {},
   "outputs": [
    {
     "name": "stdout",
     "output_type": "stream",
     "text": [
      "Fetching 000AjsqXq54 from 11 to 21 seconds...\n",
      "yes: standard output: Broken pipe\n",
      "Fetching 001_HxkADSI from 50 to 60 seconds...\n",
      "yes: standard output: Broken pipe\n",
      "Fetching 004NnY1farU from 30 to 40 seconds...\n",
      "yes: standard output: Broken pipe\n",
      "3\n"
     ]
    }
   ],
   "source": [
    "! head -n3 data/train_audiocaps/files_su.txt | ./download_audiocaps.sh\n",
    "! ls corpora/audiocaps_data/train | wc -l"
   ]
  },
  {
   "cell_type": "code",
   "execution_count": 16,
   "id": "39f87756",
   "metadata": {},
   "outputs": [
    {
     "name": "stdout",
     "output_type": "stream",
     "text": [
      "corpora/audiocaps_data/train/001_HxkADSI.wav has 160000 samples and 16kHz frequency\n"
     ]
    }
   ],
   "source": [
    "import soundfile as sf\n",
    "fname = 'corpora/audiocaps_data/train/001_HxkADSI.wav'\n",
    "x,f = sf.read(fname)\n",
    "print(f'{fname} has {len(x)} samples and {f//1000}kHz frequency')"
   ]
  }
 ],
 "metadata": {
  "kernelspec": {
   "display_name": "Python 3",
   "language": "python",
   "name": "python3"
  },
  "language_info": {
   "codemirror_mode": {
    "name": "ipython",
    "version": 3
   },
   "file_extension": ".py",
   "mimetype": "text/x-python",
   "name": "python",
   "nbconvert_exporter": "python",
   "pygments_lexer": "ipython3",
   "version": "3.8.5"
  }
 },
 "nbformat": 4,
 "nbformat_minor": 5
}
